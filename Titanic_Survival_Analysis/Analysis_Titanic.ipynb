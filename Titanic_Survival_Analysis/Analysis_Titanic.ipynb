{
 "cells": [
  {
   "cell_type": "markdown",
   "id": "a14930d4",
   "metadata": {},
   "source": [
    "# Análisis de datos del titanic"
   ]
  },
  {
   "cell_type": "markdown",
   "id": "87a5a696",
   "metadata": {},
   "source": [
    "Descarga los datos de este proyecto en el siguiente enlace:\n",
    "\n",
    "https://www.kaggle.com/c/titanic"
   ]
  },
  {
   "cell_type": "markdown",
   "id": "86cef593",
   "metadata": {},
   "source": [
    "## 1. Cargando datos"
   ]
  },
  {
   "cell_type": "code",
   "execution_count": 32,
   "id": "afbb77f1",
   "metadata": {},
   "outputs": [],
   "source": [
    "import pandas as pd\n",
    "import numpy as np\n",
    "import matplotlib.pyplot as plt"
   ]
  },
  {
   "cell_type": "code",
   "execution_count": 33,
   "id": "493d2c4a",
   "metadata": {},
   "outputs": [],
   "source": [
    "# lectura de datos en Python\n",
    "train = pd.read_csv('train.csv') \n",
    "test = pd.read_csv('test.csv')"
   ]
  },
  {
   "cell_type": "code",
   "execution_count": 34,
   "id": "af8f0219",
   "metadata": {},
   "outputs": [
    {
     "data": {
      "text/html": [
       "<div>\n",
       "<style scoped>\n",
       "    .dataframe tbody tr th:only-of-type {\n",
       "        vertical-align: middle;\n",
       "    }\n",
       "\n",
       "    .dataframe tbody tr th {\n",
       "        vertical-align: top;\n",
       "    }\n",
       "\n",
       "    .dataframe thead th {\n",
       "        text-align: right;\n",
       "    }\n",
       "</style>\n",
       "<table border=\"1\" class=\"dataframe\">\n",
       "  <thead>\n",
       "    <tr style=\"text-align: right;\">\n",
       "      <th></th>\n",
       "      <th>PassengerId</th>\n",
       "      <th>Survived</th>\n",
       "      <th>Pclass</th>\n",
       "      <th>Name</th>\n",
       "      <th>Sex</th>\n",
       "      <th>Age</th>\n",
       "      <th>SibSp</th>\n",
       "      <th>Parch</th>\n",
       "      <th>Ticket</th>\n",
       "      <th>Fare</th>\n",
       "      <th>Cabin</th>\n",
       "      <th>Embarked</th>\n",
       "    </tr>\n",
       "  </thead>\n",
       "  <tbody>\n",
       "    <tr>\n",
       "      <th>0</th>\n",
       "      <td>1</td>\n",
       "      <td>0</td>\n",
       "      <td>3</td>\n",
       "      <td>Braund, Mr. Owen Harris</td>\n",
       "      <td>male</td>\n",
       "      <td>22.0</td>\n",
       "      <td>1</td>\n",
       "      <td>0</td>\n",
       "      <td>A/5 21171</td>\n",
       "      <td>7.2500</td>\n",
       "      <td>NaN</td>\n",
       "      <td>S</td>\n",
       "    </tr>\n",
       "    <tr>\n",
       "      <th>1</th>\n",
       "      <td>2</td>\n",
       "      <td>1</td>\n",
       "      <td>1</td>\n",
       "      <td>Cumings, Mrs. John Bradley (Florence Briggs Th...</td>\n",
       "      <td>female</td>\n",
       "      <td>38.0</td>\n",
       "      <td>1</td>\n",
       "      <td>0</td>\n",
       "      <td>PC 17599</td>\n",
       "      <td>71.2833</td>\n",
       "      <td>C85</td>\n",
       "      <td>C</td>\n",
       "    </tr>\n",
       "    <tr>\n",
       "      <th>2</th>\n",
       "      <td>3</td>\n",
       "      <td>1</td>\n",
       "      <td>3</td>\n",
       "      <td>Heikkinen, Miss. Laina</td>\n",
       "      <td>female</td>\n",
       "      <td>26.0</td>\n",
       "      <td>0</td>\n",
       "      <td>0</td>\n",
       "      <td>STON/O2. 3101282</td>\n",
       "      <td>7.9250</td>\n",
       "      <td>NaN</td>\n",
       "      <td>S</td>\n",
       "    </tr>\n",
       "    <tr>\n",
       "      <th>3</th>\n",
       "      <td>4</td>\n",
       "      <td>1</td>\n",
       "      <td>1</td>\n",
       "      <td>Futrelle, Mrs. Jacques Heath (Lily May Peel)</td>\n",
       "      <td>female</td>\n",
       "      <td>35.0</td>\n",
       "      <td>1</td>\n",
       "      <td>0</td>\n",
       "      <td>113803</td>\n",
       "      <td>53.1000</td>\n",
       "      <td>C123</td>\n",
       "      <td>S</td>\n",
       "    </tr>\n",
       "    <tr>\n",
       "      <th>4</th>\n",
       "      <td>5</td>\n",
       "      <td>0</td>\n",
       "      <td>3</td>\n",
       "      <td>Allen, Mr. William Henry</td>\n",
       "      <td>male</td>\n",
       "      <td>35.0</td>\n",
       "      <td>0</td>\n",
       "      <td>0</td>\n",
       "      <td>373450</td>\n",
       "      <td>8.0500</td>\n",
       "      <td>NaN</td>\n",
       "      <td>S</td>\n",
       "    </tr>\n",
       "  </tbody>\n",
       "</table>\n",
       "</div>"
      ],
      "text/plain": [
       "   PassengerId  Survived  Pclass  \\\n",
       "0            1         0       3   \n",
       "1            2         1       1   \n",
       "2            3         1       3   \n",
       "3            4         1       1   \n",
       "4            5         0       3   \n",
       "\n",
       "                                                Name     Sex   Age  SibSp  \\\n",
       "0                            Braund, Mr. Owen Harris    male  22.0      1   \n",
       "1  Cumings, Mrs. John Bradley (Florence Briggs Th...  female  38.0      1   \n",
       "2                             Heikkinen, Miss. Laina  female  26.0      0   \n",
       "3       Futrelle, Mrs. Jacques Heath (Lily May Peel)  female  35.0      1   \n",
       "4                           Allen, Mr. William Henry    male  35.0      0   \n",
       "\n",
       "   Parch            Ticket     Fare Cabin Embarked  \n",
       "0      0         A/5 21171   7.2500   NaN        S  \n",
       "1      0          PC 17599  71.2833   C85        C  \n",
       "2      0  STON/O2. 3101282   7.9250   NaN        S  \n",
       "3      0            113803  53.1000  C123        S  \n",
       "4      0            373450   8.0500   NaN        S  "
      ]
     },
     "execution_count": 34,
     "metadata": {},
     "output_type": "execute_result"
    }
   ],
   "source": [
    "train.head()"
   ]
  },
  {
   "cell_type": "markdown",
   "id": "f5c8168f",
   "metadata": {},
   "source": [
    "## 2. Explorando datos"
   ]
  },
  {
   "cell_type": "code",
   "execution_count": 35,
   "id": "3d99bbd9",
   "metadata": {},
   "outputs": [
    {
     "data": {
      "text/plain": [
       "Index(['PassengerId', 'Survived', 'Pclass', 'Name', 'Sex', 'Age', 'SibSp',\n",
       "       'Parch', 'Ticket', 'Fare', 'Cabin', 'Embarked'],\n",
       "      dtype='object')"
      ]
     },
     "execution_count": 35,
     "metadata": {},
     "output_type": "execute_result"
    }
   ],
   "source": [
    "# ¿Qué columnas tienen los datos?\n",
    "train.columns"
   ]
  },
  {
   "cell_type": "code",
   "execution_count": 36,
   "id": "60991725",
   "metadata": {},
   "outputs": [
    {
     "data": {
      "text/plain": [
       "(891, 12)"
      ]
     },
     "execution_count": 36,
     "metadata": {},
     "output_type": "execute_result"
    }
   ],
   "source": [
    "# ¿Qué tamaño tienen los datos? -filas, columnas-\n",
    "train.shape"
   ]
  },
  {
   "cell_type": "code",
   "execution_count": 37,
   "id": "9cd93b7e",
   "metadata": {},
   "outputs": [
    {
     "name": "stdout",
     "output_type": "stream",
     "text": [
      "<class 'pandas.core.frame.DataFrame'>\n",
      "RangeIndex: 891 entries, 0 to 890\n",
      "Data columns (total 12 columns):\n",
      " #   Column       Non-Null Count  Dtype  \n",
      "---  ------       --------------  -----  \n",
      " 0   PassengerId  891 non-null    int64  \n",
      " 1   Survived     891 non-null    int64  \n",
      " 2   Pclass       891 non-null    int64  \n",
      " 3   Name         891 non-null    object \n",
      " 4   Sex          891 non-null    object \n",
      " 5   Age          714 non-null    float64\n",
      " 6   SibSp        891 non-null    int64  \n",
      " 7   Parch        891 non-null    int64  \n",
      " 8   Ticket       891 non-null    object \n",
      " 9   Fare         891 non-null    float64\n",
      " 10  Cabin        204 non-null    object \n",
      " 11  Embarked     889 non-null    object \n",
      "dtypes: float64(2), int64(5), object(5)\n",
      "memory usage: 83.7+ KB\n"
     ]
    }
   ],
   "source": [
    "# ¿Hay valores nulos en los datos?\n",
    "train.info()"
   ]
  },
  {
   "cell_type": "code",
   "execution_count": 38,
   "id": "5e26f0ee",
   "metadata": {},
   "outputs": [
    {
     "data": {
      "text/html": [
       "<div>\n",
       "<style scoped>\n",
       "    .dataframe tbody tr th:only-of-type {\n",
       "        vertical-align: middle;\n",
       "    }\n",
       "\n",
       "    .dataframe tbody tr th {\n",
       "        vertical-align: top;\n",
       "    }\n",
       "\n",
       "    .dataframe thead th {\n",
       "        text-align: right;\n",
       "    }\n",
       "</style>\n",
       "<table border=\"1\" class=\"dataframe\">\n",
       "  <thead>\n",
       "    <tr style=\"text-align: right;\">\n",
       "      <th></th>\n",
       "      <th>PassengerId</th>\n",
       "      <th>Survived</th>\n",
       "      <th>Pclass</th>\n",
       "      <th>Age</th>\n",
       "      <th>SibSp</th>\n",
       "      <th>Parch</th>\n",
       "      <th>Fare</th>\n",
       "    </tr>\n",
       "  </thead>\n",
       "  <tbody>\n",
       "    <tr>\n",
       "      <th>count</th>\n",
       "      <td>891.000000</td>\n",
       "      <td>891.000000</td>\n",
       "      <td>891.000000</td>\n",
       "      <td>714.000000</td>\n",
       "      <td>891.000000</td>\n",
       "      <td>891.000000</td>\n",
       "      <td>891.000000</td>\n",
       "    </tr>\n",
       "    <tr>\n",
       "      <th>mean</th>\n",
       "      <td>446.000000</td>\n",
       "      <td>0.383838</td>\n",
       "      <td>2.308642</td>\n",
       "      <td>29.699118</td>\n",
       "      <td>0.523008</td>\n",
       "      <td>0.381594</td>\n",
       "      <td>32.204208</td>\n",
       "    </tr>\n",
       "    <tr>\n",
       "      <th>std</th>\n",
       "      <td>257.353842</td>\n",
       "      <td>0.486592</td>\n",
       "      <td>0.836071</td>\n",
       "      <td>14.526497</td>\n",
       "      <td>1.102743</td>\n",
       "      <td>0.806057</td>\n",
       "      <td>49.693429</td>\n",
       "    </tr>\n",
       "    <tr>\n",
       "      <th>min</th>\n",
       "      <td>1.000000</td>\n",
       "      <td>0.000000</td>\n",
       "      <td>1.000000</td>\n",
       "      <td>0.420000</td>\n",
       "      <td>0.000000</td>\n",
       "      <td>0.000000</td>\n",
       "      <td>0.000000</td>\n",
       "    </tr>\n",
       "    <tr>\n",
       "      <th>25%</th>\n",
       "      <td>223.500000</td>\n",
       "      <td>0.000000</td>\n",
       "      <td>2.000000</td>\n",
       "      <td>20.125000</td>\n",
       "      <td>0.000000</td>\n",
       "      <td>0.000000</td>\n",
       "      <td>7.910400</td>\n",
       "    </tr>\n",
       "    <tr>\n",
       "      <th>50%</th>\n",
       "      <td>446.000000</td>\n",
       "      <td>0.000000</td>\n",
       "      <td>3.000000</td>\n",
       "      <td>28.000000</td>\n",
       "      <td>0.000000</td>\n",
       "      <td>0.000000</td>\n",
       "      <td>14.454200</td>\n",
       "    </tr>\n",
       "    <tr>\n",
       "      <th>75%</th>\n",
       "      <td>668.500000</td>\n",
       "      <td>1.000000</td>\n",
       "      <td>3.000000</td>\n",
       "      <td>38.000000</td>\n",
       "      <td>1.000000</td>\n",
       "      <td>0.000000</td>\n",
       "      <td>31.000000</td>\n",
       "    </tr>\n",
       "    <tr>\n",
       "      <th>max</th>\n",
       "      <td>891.000000</td>\n",
       "      <td>1.000000</td>\n",
       "      <td>3.000000</td>\n",
       "      <td>80.000000</td>\n",
       "      <td>8.000000</td>\n",
       "      <td>6.000000</td>\n",
       "      <td>512.329200</td>\n",
       "    </tr>\n",
       "  </tbody>\n",
       "</table>\n",
       "</div>"
      ],
      "text/plain": [
       "       PassengerId    Survived      Pclass         Age       SibSp  \\\n",
       "count   891.000000  891.000000  891.000000  714.000000  891.000000   \n",
       "mean    446.000000    0.383838    2.308642   29.699118    0.523008   \n",
       "std     257.353842    0.486592    0.836071   14.526497    1.102743   \n",
       "min       1.000000    0.000000    1.000000    0.420000    0.000000   \n",
       "25%     223.500000    0.000000    2.000000   20.125000    0.000000   \n",
       "50%     446.000000    0.000000    3.000000   28.000000    0.000000   \n",
       "75%     668.500000    1.000000    3.000000   38.000000    1.000000   \n",
       "max     891.000000    1.000000    3.000000   80.000000    8.000000   \n",
       "\n",
       "            Parch        Fare  \n",
       "count  891.000000  891.000000  \n",
       "mean     0.381594   32.204208  \n",
       "std      0.806057   49.693429  \n",
       "min      0.000000    0.000000  \n",
       "25%      0.000000    7.910400  \n",
       "50%      0.000000   14.454200  \n",
       "75%      0.000000   31.000000  \n",
       "max      6.000000  512.329200  "
      ]
     },
     "execution_count": 38,
     "metadata": {},
     "output_type": "execute_result"
    }
   ],
   "source": [
    "# ¿Cómo se distribuyen las variables numéricas? Estadistica Básica\n",
    "train.describe()"
   ]
  },
  {
   "cell_type": "code",
   "execution_count": 39,
   "id": "b5b6aed9",
   "metadata": {},
   "outputs": [
    {
     "data": {
      "text/html": [
       "<div>\n",
       "<style scoped>\n",
       "    .dataframe tbody tr th:only-of-type {\n",
       "        vertical-align: middle;\n",
       "    }\n",
       "\n",
       "    .dataframe tbody tr th {\n",
       "        vertical-align: top;\n",
       "    }\n",
       "\n",
       "    .dataframe thead th {\n",
       "        text-align: right;\n",
       "    }\n",
       "</style>\n",
       "<table border=\"1\" class=\"dataframe\">\n",
       "  <thead>\n",
       "    <tr style=\"text-align: right;\">\n",
       "      <th></th>\n",
       "      <th>Name</th>\n",
       "      <th>Sex</th>\n",
       "      <th>Ticket</th>\n",
       "      <th>Cabin</th>\n",
       "      <th>Embarked</th>\n",
       "    </tr>\n",
       "  </thead>\n",
       "  <tbody>\n",
       "    <tr>\n",
       "      <th>count</th>\n",
       "      <td>891</td>\n",
       "      <td>891</td>\n",
       "      <td>891</td>\n",
       "      <td>204</td>\n",
       "      <td>889</td>\n",
       "    </tr>\n",
       "    <tr>\n",
       "      <th>unique</th>\n",
       "      <td>891</td>\n",
       "      <td>2</td>\n",
       "      <td>681</td>\n",
       "      <td>147</td>\n",
       "      <td>3</td>\n",
       "    </tr>\n",
       "    <tr>\n",
       "      <th>top</th>\n",
       "      <td>Gaskell, Mr. Alfred</td>\n",
       "      <td>male</td>\n",
       "      <td>CA. 2343</td>\n",
       "      <td>G6</td>\n",
       "      <td>S</td>\n",
       "    </tr>\n",
       "    <tr>\n",
       "      <th>freq</th>\n",
       "      <td>1</td>\n",
       "      <td>577</td>\n",
       "      <td>7</td>\n",
       "      <td>4</td>\n",
       "      <td>644</td>\n",
       "    </tr>\n",
       "  </tbody>\n",
       "</table>\n",
       "</div>"
      ],
      "text/plain": [
       "                       Name   Sex    Ticket Cabin Embarked\n",
       "count                   891   891       891   204      889\n",
       "unique                  891     2       681   147        3\n",
       "top     Gaskell, Mr. Alfred  male  CA. 2343    G6        S\n",
       "freq                      1   577         7     4      644"
      ]
     },
     "execution_count": 39,
     "metadata": {},
     "output_type": "execute_result"
    }
   ],
   "source": [
    "# ¿Cómo se comportan las variables categóricas?\n",
    "train.describe(include=['O'])"
   ]
  },
  {
   "cell_type": "markdown",
   "id": "58225f27",
   "metadata": {},
   "source": [
    "## 2.1 EDA: Estudio de variable target"
   ]
  },
  {
   "cell_type": "code",
   "execution_count": 40,
   "id": "d791e183",
   "metadata": {},
   "outputs": [],
   "source": [
    "#La función Pandas dataframe.groupby() se utiliza para dividir los datos en grupos basados en algunos criterios. "
   ]
  },
  {
   "cell_type": "code",
   "execution_count": 41,
   "id": "c4dedd16",
   "metadata": {},
   "outputs": [
    {
     "data": {
      "text/plain": [
       "Survived\n",
       "0    549\n",
       "1    342\n",
       "Name: PassengerId, dtype: int64"
      ]
     },
     "execution_count": 41,
     "metadata": {},
     "output_type": "execute_result"
    }
   ],
   "source": [
    "# La variable target es 'Survived'\n",
    "# 0 = No, 1 = Si\n",
    "\n",
    "train.groupby(['Survived']).count()['PassengerId']"
   ]
  },
  {
   "cell_type": "code",
   "execution_count": 42,
   "id": "bec4168f",
   "metadata": {},
   "outputs": [
    {
     "data": {
      "text/plain": [
       "Survived  Sex   \n",
       "0         female     81\n",
       "          male      468\n",
       "1         female    233\n",
       "          male      109\n",
       "Name: PassengerId, dtype: int64"
      ]
     },
     "execution_count": 42,
     "metadata": {},
     "output_type": "execute_result"
    }
   ],
   "source": [
    "# target vs sex\n",
    "train.groupby(['Survived','Sex']).count()['PassengerId']"
   ]
  },
  {
   "cell_type": "code",
   "execution_count": 43,
   "id": "cf370acf",
   "metadata": {},
   "outputs": [
    {
     "name": "stdout",
     "output_type": "stream",
     "text": [
      "Survived  Sex   \n",
      "0         female     81\n",
      "          male      468\n",
      "1         female    233\n",
      "          male      109\n",
      "Name: PassengerId, dtype: int64\n"
     ]
    },
    {
     "data": {
      "image/png": "[encoded data removed]",
      "text/plain": [
       "<Figure size 432x288 with 1 Axes>"
      ]
     },
     "metadata": {
      "needs_background": "light"
     },
     "output_type": "display_data"
    }
   ],
   "source": [
    "# Graficámos la información\n",
    "grouped_sex = train.groupby(['Survived','Sex']).count()['PassengerId']\n",
    "print(grouped_sex)\n",
    "\n",
    "(grouped_sex.unstack(level=0).plot.bar())\n",
    "plt.show()"
   ]
  },
  {
   "cell_type": "code",
   "execution_count": 44,
   "id": "280bf498",
   "metadata": {},
   "outputs": [
    {
     "data": {
      "text/html": [
       "<div>\n",
       "<style scoped>\n",
       "    .dataframe tbody tr th:only-of-type {\n",
       "        vertical-align: middle;\n",
       "    }\n",
       "\n",
       "    .dataframe tbody tr th {\n",
       "        vertical-align: top;\n",
       "    }\n",
       "\n",
       "    .dataframe thead th {\n",
       "        text-align: right;\n",
       "    }\n",
       "</style>\n",
       "<table border=\"1\" class=\"dataframe\">\n",
       "  <thead>\n",
       "    <tr style=\"text-align: right;\">\n",
       "      <th>Survived</th>\n",
       "      <th>0</th>\n",
       "      <th>1</th>\n",
       "    </tr>\n",
       "    <tr>\n",
       "      <th>Sex</th>\n",
       "      <th></th>\n",
       "      <th></th>\n",
       "    </tr>\n",
       "  </thead>\n",
       "  <tbody>\n",
       "    <tr>\n",
       "      <th>female</th>\n",
       "      <td>81</td>\n",
       "      <td>233</td>\n",
       "    </tr>\n",
       "    <tr>\n",
       "      <th>male</th>\n",
       "      <td>468</td>\n",
       "      <td>109</td>\n",
       "    </tr>\n",
       "  </tbody>\n",
       "</table>\n",
       "</div>"
      ],
      "text/plain": [
       "Survived    0    1\n",
       "Sex               \n",
       "female     81  233\n",
       "male      468  109"
      ]
     },
     "execution_count": 44,
     "metadata": {},
     "output_type": "execute_result"
    }
   ],
   "source": [
    "# unstack(level=0) apila el dataframe horizontalmente\n",
    "grouped_sex.unstack(level=0)"
   ]
  },
  {
   "cell_type": "code",
   "execution_count": 45,
   "id": "02b79779",
   "metadata": {},
   "outputs": [],
   "source": [
    "# tarea hacer para otras variables"
   ]
  },
  {
   "cell_type": "code",
   "execution_count": 46,
   "id": "1e631dab",
   "metadata": {},
   "outputs": [
    {
     "name": "stdout",
     "output_type": "stream",
     "text": [
      "AxesSubplot(0.125,0.125;0.775x0.755)\n"
     ]
    },
    {
     "data": {
      "image/png": "[encoded data removed]",
      "text/plain": [
       "<Figure size 432x288 with 1 Axes>"
      ]
     },
     "metadata": {
      "needs_background": "light"
     },
     "output_type": "display_data"
    }
   ],
   "source": [
    "# embarked vs pclass\n",
    "# Embarked -> C = Cherbourg, Q = Queenstown, S = Southampton\n",
    "# Pclass -> Ticket class -> 1 = 1st, 2 = 2nd, 3 = 3rd\n",
    "\n",
    "print(train.groupby(['Pclass', 'Embarked'])\n",
    "        .count()['PassengerId']\n",
    "        .unstack(level=0)\n",
    "        .plot.bar())"
   ]
  },
  {
   "cell_type": "markdown",
   "id": "dfb5a636",
   "metadata": {},
   "source": [
    "## 3.Procesamiento de datos"
   ]
  },
  {
   "cell_type": "markdown",
   "id": "648830d2",
   "metadata": {},
   "source": [
    "Empezamos seleccionando las variables que queremos trabajar que serían:\n",
    "\n",
    "- Survived\n",
    "- Sex\n",
    "- Age\n",
    "- Pclass"
   ]
  },
  {
   "cell_type": "code",
   "execution_count": 47,
   "id": "9dea3b49",
   "metadata": {},
   "outputs": [
    {
     "data": {
      "text/html": [
       "<div>\n",
       "<style scoped>\n",
       "    .dataframe tbody tr th:only-of-type {\n",
       "        vertical-align: middle;\n",
       "    }\n",
       "\n",
       "    .dataframe tbody tr th {\n",
       "        vertical-align: top;\n",
       "    }\n",
       "\n",
       "    .dataframe thead th {\n",
       "        text-align: right;\n",
       "    }\n",
       "</style>\n",
       "<table border=\"1\" class=\"dataframe\">\n",
       "  <thead>\n",
       "    <tr style=\"text-align: right;\">\n",
       "      <th></th>\n",
       "      <th>Survived</th>\n",
       "      <th>Sex</th>\n",
       "      <th>Age</th>\n",
       "      <th>Pclass</th>\n",
       "    </tr>\n",
       "  </thead>\n",
       "  <tbody>\n",
       "    <tr>\n",
       "      <th>0</th>\n",
       "      <td>0</td>\n",
       "      <td>male</td>\n",
       "      <td>22.0</td>\n",
       "      <td>3</td>\n",
       "    </tr>\n",
       "    <tr>\n",
       "      <th>1</th>\n",
       "      <td>1</td>\n",
       "      <td>female</td>\n",
       "      <td>38.0</td>\n",
       "      <td>1</td>\n",
       "    </tr>\n",
       "    <tr>\n",
       "      <th>2</th>\n",
       "      <td>1</td>\n",
       "      <td>female</td>\n",
       "      <td>26.0</td>\n",
       "      <td>3</td>\n",
       "    </tr>\n",
       "  </tbody>\n",
       "</table>\n",
       "</div>"
      ],
      "text/plain": [
       "   Survived     Sex   Age  Pclass\n",
       "0         0    male  22.0       3\n",
       "1         1  female  38.0       1\n",
       "2         1  female  26.0       3"
      ]
     },
     "execution_count": 47,
     "metadata": {},
     "output_type": "execute_result"
    }
   ],
   "source": [
    "train[['Survived', 'Sex', 'Age', 'Pclass']].head(3)"
   ]
  },
  {
   "cell_type": "markdown",
   "id": "471712fd",
   "metadata": {},
   "source": [
    "Estudiamos los datos nulos"
   ]
  },
  {
   "cell_type": "code",
   "execution_count": 48,
   "id": "ebb50bef",
   "metadata": {},
   "outputs": [
    {
     "name": "stdout",
     "output_type": "stream",
     "text": [
      "<class 'pandas.core.frame.DataFrame'>\n",
      "RangeIndex: 891 entries, 0 to 890\n",
      "Data columns (total 4 columns):\n",
      " #   Column    Non-Null Count  Dtype  \n",
      "---  ------    --------------  -----  \n",
      " 0   Survived  891 non-null    int64  \n",
      " 1   Sex       891 non-null    object \n",
      " 2   Age       714 non-null    float64\n",
      " 3   Pclass    891 non-null    int64  \n",
      "dtypes: float64(1), int64(2), object(1)\n",
      "memory usage: 28.0+ KB\n"
     ]
    }
   ],
   "source": [
    "# Identifiva que tipo de dato contiene cada columna.\n",
    "\n",
    "train[['Survived', 'Sex', 'Age', 'Pclass']].info()"
   ]
  },
  {
   "cell_type": "markdown",
   "id": "1dbce59a",
   "metadata": {},
   "source": [
    "Tenemos que mejorar\n",
    "\n",
    "- Datos faltantes en Age train['Age'].isna()\n",
    "- La variable Sex aparece como object y queremos int o float para algoritmos"
   ]
  },
  {
   "cell_type": "code",
   "execution_count": 49,
   "id": "21934c6a",
   "metadata": {},
   "outputs": [
    {
     "data": {
      "text/html": [
       "<div>\n",
       "<style scoped>\n",
       "    .dataframe tbody tr th:only-of-type {\n",
       "        vertical-align: middle;\n",
       "    }\n",
       "\n",
       "    .dataframe tbody tr th {\n",
       "        vertical-align: top;\n",
       "    }\n",
       "\n",
       "    .dataframe thead th {\n",
       "        text-align: right;\n",
       "    }\n",
       "</style>\n",
       "<table border=\"1\" class=\"dataframe\">\n",
       "  <thead>\n",
       "    <tr style=\"text-align: right;\">\n",
       "      <th>Sex</th>\n",
       "      <th>female</th>\n",
       "      <th>male</th>\n",
       "    </tr>\n",
       "    <tr>\n",
       "      <th>Pclass</th>\n",
       "      <th></th>\n",
       "      <th></th>\n",
       "    </tr>\n",
       "  </thead>\n",
       "  <tbody>\n",
       "    <tr>\n",
       "      <th>1</th>\n",
       "      <td>9</td>\n",
       "      <td>21</td>\n",
       "    </tr>\n",
       "    <tr>\n",
       "      <th>2</th>\n",
       "      <td>2</td>\n",
       "      <td>9</td>\n",
       "    </tr>\n",
       "    <tr>\n",
       "      <th>3</th>\n",
       "      <td>42</td>\n",
       "      <td>94</td>\n",
       "    </tr>\n",
       "  </tbody>\n",
       "</table>\n",
       "</div>"
      ],
      "text/plain": [
       "Sex     female  male\n",
       "Pclass              \n",
       "1            9    21\n",
       "2            2     9\n",
       "3           42    94"
      ]
     },
     "execution_count": 49,
     "metadata": {},
     "output_type": "execute_result"
    }
   ],
   "source": [
    "# mirar como se distribuyen los nulos en edad\n",
    "# La función Pandas dataframe.isna() se utiliza para detectar los valores perdidos. Devuelve True si los valores son NA.\n",
    "(train[train['Age'].isna()]\n",
    "      .groupby(['Sex', 'Pclass'])\n",
    "      .count()['PassengerId']\n",
    "      .unstack(level=0))"
   ]
  },
  {
   "cell_type": "code",
   "execution_count": 50,
   "id": "9f4d3397",
   "metadata": {},
   "outputs": [
    {
     "data": {
      "text/html": [
       "<div>\n",
       "<style scoped>\n",
       "    .dataframe tbody tr th:only-of-type {\n",
       "        vertical-align: middle;\n",
       "    }\n",
       "\n",
       "    .dataframe tbody tr th {\n",
       "        vertical-align: top;\n",
       "    }\n",
       "\n",
       "    .dataframe thead th {\n",
       "        text-align: right;\n",
       "    }\n",
       "</style>\n",
       "<table border=\"1\" class=\"dataframe\">\n",
       "  <thead>\n",
       "    <tr style=\"text-align: right;\">\n",
       "      <th>SibSp</th>\n",
       "      <th>0</th>\n",
       "      <th>1</th>\n",
       "      <th>2</th>\n",
       "      <th>3</th>\n",
       "      <th>8</th>\n",
       "    </tr>\n",
       "    <tr>\n",
       "      <th>Parch</th>\n",
       "      <th></th>\n",
       "      <th></th>\n",
       "      <th></th>\n",
       "      <th></th>\n",
       "      <th></th>\n",
       "    </tr>\n",
       "  </thead>\n",
       "  <tbody>\n",
       "    <tr>\n",
       "      <th>0</th>\n",
       "      <td>133.0</td>\n",
       "      <td>21.0</td>\n",
       "      <td>3.0</td>\n",
       "      <td>NaN</td>\n",
       "      <td>NaN</td>\n",
       "    </tr>\n",
       "    <tr>\n",
       "      <th>1</th>\n",
       "      <td>1.0</td>\n",
       "      <td>3.0</td>\n",
       "      <td>NaN</td>\n",
       "      <td>4.0</td>\n",
       "      <td>NaN</td>\n",
       "    </tr>\n",
       "    <tr>\n",
       "      <th>2</th>\n",
       "      <td>3.0</td>\n",
       "      <td>2.0</td>\n",
       "      <td>NaN</td>\n",
       "      <td>NaN</td>\n",
       "      <td>7.0</td>\n",
       "    </tr>\n",
       "  </tbody>\n",
       "</table>\n",
       "</div>"
      ],
      "text/plain": [
       "SibSp      0     1    2    3    8\n",
       "Parch                            \n",
       "0      133.0  21.0  3.0  NaN  NaN\n",
       "1        1.0   3.0  NaN  4.0  NaN\n",
       "2        3.0   2.0  NaN  NaN  7.0"
      ]
     },
     "execution_count": 50,
     "metadata": {},
     "output_type": "execute_result"
    }
   ],
   "source": [
    "# SibSP = # Número de hermanos / cónyuges a bordo del Titanic\n",
    "# Parch = # de padres / hijos a bordo del Titanic\n",
    "(train[train['Age'].isna()]\n",
    "      .groupby(['SibSp', 'Parch'])\n",
    "      .count()['PassengerId']\n",
    "      .unstack(level=0))"
   ]
  },
  {
   "cell_type": "markdown",
   "id": "c82dc53c",
   "metadata": {},
   "source": [
    "De arriba se puede concluir que era gente que viajaba mayormente sola y la mayoría eran de 3era clase.\n",
    "\n",
    "Esto nos da la idea de que se puede crear una variable que indique si la persona viajaba sola o acompañada.\n",
    "\n",
    "La crearemos más adelante"
   ]
  },
  {
   "cell_type": "code",
   "execution_count": 51,
   "id": "36dfd4ac",
   "metadata": {},
   "outputs": [
    {
     "data": {
      "text/plain": [
       "28.0"
      ]
     },
     "execution_count": 51,
     "metadata": {},
     "output_type": "execute_result"
    }
   ],
   "source": [
    "# calcular mediana de Age para imputar esa variable en los datos faltantes\n",
    "train['Age'].median()"
   ]
  },
  {
   "cell_type": "markdown",
   "id": "39a0e281",
   "metadata": {},
   "source": [
    "Esto ya es a juicio del analista, aquí consideramos que 28 años correspondia a un hombre soltero que viaja solo por lo que imputamos esa variable.<br> La imputación de un valor es para que el modelo tenga algo con que entrenar, pero tambien puede llevar a sesgoz en el análisis por lo que hay que tener mucho cuidado."
   ]
  },
  {
   "cell_type": "code",
   "execution_count": 52,
   "id": "801ca14f",
   "metadata": {},
   "outputs": [
    {
     "name": "stdout",
     "output_type": "stream",
     "text": [
      "<class 'pandas.core.frame.DataFrame'>\n",
      "RangeIndex: 891 entries, 0 to 890\n",
      "Data columns (total 4 columns):\n",
      " #   Column    Non-Null Count  Dtype  \n",
      "---  ------    --------------  -----  \n",
      " 0   Survived  891 non-null    int64  \n",
      " 1   Sex       891 non-null    object \n",
      " 2   Age       891 non-null    float64\n",
      " 3   Pclass    891 non-null    int64  \n",
      "dtypes: float64(1), int64(2), object(1)\n",
      "memory usage: 28.0+ KB\n"
     ]
    }
   ],
   "source": [
    "# imputar valor para rellenar nulos\n",
    "train['Age'] = train['Age'].fillna(28.0)\n",
    "train[['Survived', 'Sex', 'Age', 'Pclass']].info()"
   ]
  },
  {
   "cell_type": "markdown",
   "id": "7cf605c9",
   "metadata": {},
   "source": [
    "Ya no tenemos nulos. Falta resolver lo de pasar Sex a int"
   ]
  },
  {
   "cell_type": "code",
   "execution_count": 53,
   "id": "cb7242e8",
   "metadata": {},
   "outputs": [],
   "source": [
    "# map para label encoding\n",
    "train['Sex'] = train['Sex'].map({'female': 1, 'male': 0}).astype(int)"
   ]
  },
  {
   "cell_type": "markdown",
   "id": "5d27b775",
   "metadata": {},
   "source": [
    "Ahora tenemos la tabla preprocesada lista"
   ]
  },
  {
   "cell_type": "code",
   "execution_count": 54,
   "id": "24d95ee0",
   "metadata": {},
   "outputs": [
    {
     "data": {
      "text/html": [
       "<div>\n",
       "<style scoped>\n",
       "    .dataframe tbody tr th:only-of-type {\n",
       "        vertical-align: middle;\n",
       "    }\n",
       "\n",
       "    .dataframe tbody tr th {\n",
       "        vertical-align: top;\n",
       "    }\n",
       "\n",
       "    .dataframe thead th {\n",
       "        text-align: right;\n",
       "    }\n",
       "</style>\n",
       "<table border=\"1\" class=\"dataframe\">\n",
       "  <thead>\n",
       "    <tr style=\"text-align: right;\">\n",
       "      <th></th>\n",
       "      <th>Survived</th>\n",
       "      <th>Sex</th>\n",
       "      <th>Age</th>\n",
       "      <th>Pclass</th>\n",
       "    </tr>\n",
       "  </thead>\n",
       "  <tbody>\n",
       "    <tr>\n",
       "      <th>0</th>\n",
       "      <td>0</td>\n",
       "      <td>0</td>\n",
       "      <td>22.0</td>\n",
       "      <td>3</td>\n",
       "    </tr>\n",
       "    <tr>\n",
       "      <th>1</th>\n",
       "      <td>1</td>\n",
       "      <td>1</td>\n",
       "      <td>38.0</td>\n",
       "      <td>1</td>\n",
       "    </tr>\n",
       "    <tr>\n",
       "      <th>2</th>\n",
       "      <td>1</td>\n",
       "      <td>1</td>\n",
       "      <td>26.0</td>\n",
       "      <td>3</td>\n",
       "    </tr>\n",
       "  </tbody>\n",
       "</table>\n",
       "</div>"
      ],
      "text/plain": [
       "   Survived  Sex   Age  Pclass\n",
       "0         0    0  22.0       3\n",
       "1         1    1  38.0       1\n",
       "2         1    1  26.0       3"
      ]
     },
     "execution_count": 54,
     "metadata": {},
     "output_type": "execute_result"
    }
   ],
   "source": [
    "train[['Survived', 'Sex', 'Age', 'Pclass']].head(3)"
   ]
  },
  {
   "cell_type": "markdown",
   "id": "d1f58efc",
   "metadata": {},
   "source": [
    "## 3.1 Crear nuevas variables"
   ]
  },
  {
   "cell_type": "code",
   "execution_count": 55,
   "id": "4ce45d5d",
   "metadata": {},
   "outputs": [],
   "source": [
    "# crear nueva variable tipo flag \"solo\"\n",
    "# Variable FlagSolo: 1 = se cumple la condición, 0 = no se cumple\n",
    "train['FlagSolo'] = np.where(\n",
    "    (train['SibSp'] == 0) & (train['Parch'] == 0), 1, 0)"
   ]
  },
  {
   "cell_type": "code",
   "execution_count": 56,
   "id": "c95ca8b6",
   "metadata": {},
   "outputs": [
    {
     "name": "stdout",
     "output_type": "stream",
     "text": [
      "Survived  FlagSolo\n",
      "0         0           175\n",
      "          1           374\n",
      "1         0           179\n",
      "          1           163\n",
      "Name: PassengerId, dtype: int64\n"
     ]
    },
    {
     "data": {
      "image/png": "[encoded data removed]",
      "text/plain": [
       "<Figure size 432x288 with 1 Axes>"
      ]
     },
     "metadata": {
      "needs_background": "light"
     },
     "output_type": "display_data"
    }
   ],
   "source": [
    "# Grafica \n",
    "grouped_flag = train.groupby(['Survived','FlagSolo']).count()['PassengerId']\n",
    "print(grouped_flag)\n",
    "(grouped_flag.unstack(level=0).plot.bar())\n",
    "plt.show()"
   ]
  },
  {
   "cell_type": "code",
   "execution_count": 57,
   "id": "670fdcf5",
   "metadata": {},
   "outputs": [
    {
     "data": {
      "text/html": [
       "<div>\n",
       "<style scoped>\n",
       "    .dataframe tbody tr th:only-of-type {\n",
       "        vertical-align: middle;\n",
       "    }\n",
       "\n",
       "    .dataframe tbody tr th {\n",
       "        vertical-align: top;\n",
       "    }\n",
       "\n",
       "    .dataframe thead th {\n",
       "        text-align: right;\n",
       "    }\n",
       "</style>\n",
       "<table border=\"1\" class=\"dataframe\">\n",
       "  <thead>\n",
       "    <tr style=\"text-align: right;\">\n",
       "      <th></th>\n",
       "      <th>Survived</th>\n",
       "      <th>Sex</th>\n",
       "      <th>Age</th>\n",
       "      <th>Pclass</th>\n",
       "      <th>FlagSolo</th>\n",
       "    </tr>\n",
       "  </thead>\n",
       "  <tbody>\n",
       "    <tr>\n",
       "      <th>0</th>\n",
       "      <td>0</td>\n",
       "      <td>0</td>\n",
       "      <td>22.0</td>\n",
       "      <td>3</td>\n",
       "      <td>0</td>\n",
       "    </tr>\n",
       "    <tr>\n",
       "      <th>1</th>\n",
       "      <td>1</td>\n",
       "      <td>1</td>\n",
       "      <td>38.0</td>\n",
       "      <td>1</td>\n",
       "      <td>0</td>\n",
       "    </tr>\n",
       "    <tr>\n",
       "      <th>2</th>\n",
       "      <td>1</td>\n",
       "      <td>1</td>\n",
       "      <td>26.0</td>\n",
       "      <td>3</td>\n",
       "      <td>1</td>\n",
       "    </tr>\n",
       "  </tbody>\n",
       "</table>\n",
       "</div>"
      ],
      "text/plain": [
       "   Survived  Sex   Age  Pclass  FlagSolo\n",
       "0         0    0  22.0       3         0\n",
       "1         1    1  38.0       1         0\n",
       "2         1    1  26.0       3         1"
      ]
     },
     "execution_count": 57,
     "metadata": {},
     "output_type": "execute_result"
    }
   ],
   "source": [
    "train[['Survived', 'Sex', 'Age', 'Pclass', 'FlagSolo']].head(3)"
   ]
  },
  {
   "cell_type": "markdown",
   "id": "02636453",
   "metadata": {},
   "source": [
    "Estos ya serían los datos con los que vamos a hacer modelos"
   ]
  },
  {
   "cell_type": "code",
   "execution_count": 58,
   "id": "41da0046",
   "metadata": {},
   "outputs": [
    {
     "name": "stdout",
     "output_type": "stream",
     "text": [
      "(891,) (891, 4)\n"
     ]
    }
   ],
   "source": [
    "# variable dependiente\n",
    "Y_train = train['Survived']\n",
    "\n",
    "# preprocesamiento de variables independientes\n",
    "features = ['Sex', 'Age', 'Pclass', 'FlagSolo']\n",
    "X_train = train[features]\n",
    "\n",
    "print(Y_train.shape, X_train.shape)\n"
   ]
  },
  {
   "cell_type": "markdown",
   "id": "072b627c",
   "metadata": {},
   "source": [
    "## 4. Modelos"
   ]
  },
  {
   "cell_type": "markdown",
   "id": "17171665",
   "metadata": {},
   "source": [
    "Sin entrar en mucho detalle. Vamos a escoger dos modelos de prueba.\n",
    "\n",
    "- regresión logistica\n",
    "- arboles de decisión"
   ]
  },
  {
   "cell_type": "code",
   "execution_count": 59,
   "id": "eb85bfe8",
   "metadata": {},
   "outputs": [
    {
     "data": {
      "text/plain": [
       "LogisticRegression()"
      ]
     },
     "execution_count": 59,
     "metadata": {},
     "output_type": "execute_result"
    }
   ],
   "source": [
    "# entrenando modelo regresión logistica\n",
    "from sklearn.linear_model import LogisticRegression\n",
    "\n",
    "# crea una variable y asignele una instacia del objeto LogisticRegression()\n",
    "logreg = LogisticRegression()\n",
    "# ajusta los datos de entrenamiento. Para aplicaciones de aprendizaje supervisado, acepta dos argumentos: los datos X y las etiquetas y.\n",
    "logreg.fit(X_train, Y_train) "
   ]
  },
  {
   "cell_type": "code",
   "execution_count": 60,
   "id": "bdfcc44e",
   "metadata": {},
   "outputs": [
    {
     "data": {
      "text/plain": [
       "DecisionTreeClassifier()"
      ]
     },
     "execution_count": 60,
     "metadata": {},
     "output_type": "execute_result"
    }
   ],
   "source": [
    "# entrenando modelo arboles de decisión\n",
    "from sklearn.tree import DecisionTreeClassifier\n",
    "\n",
    "decision_tree = DecisionTreeClassifier()\n",
    "decision_tree.fit(X_train, Y_train)"
   ]
  },
  {
   "cell_type": "markdown",
   "id": "71d36dc5",
   "metadata": {},
   "source": [
    "## 5. Evaluación"
   ]
  },
  {
   "cell_type": "markdown",
   "id": "d5fbb3ea",
   "metadata": {},
   "source": [
    "Aquí vamos a hacer una matriz de confusión y evaluar que tan bueno es cada modelo.<br> En una matriz de confución vamos a tener los valores predichos y los valores reales, en nuestro caso es la columna de si sobrevivió o no y los valores que dice el modelo que va a dar. Es decir, vamos a comprar lo que paso en realidad con lo que nosotros hemos predicho."
   ]
  },
  {
   "cell_type": "code",
   "execution_count": 62,
   "id": "a63add4c",
   "metadata": {},
   "outputs": [],
   "source": [
    "from sklearn.metrics import plot_confusion_matrix\n",
    "\n",
    "def conf_mat_acc(modelo):\n",
    "  disp = plot_confusion_matrix(modelo, X_train, Y_train,\n",
    "                        cmap=plt.cm.Blues, values_format=\"d\")\n",
    "  true_pred = disp.confusion_matrix[0,0]+disp.confusion_matrix[1,1]\n",
    "  total_data = np.sum(disp.confusion_matrix)\n",
    "  accuracy = true_pred/total_data\n",
    "  print('accuracy: ', np.round(accuracy, 2))\n",
    "  plt.show()"
   ]
  },
  {
   "cell_type": "code",
   "execution_count": 63,
   "id": "a10796e7",
   "metadata": {},
   "outputs": [
    {
     "name": "stdout",
     "output_type": "stream",
     "text": [
      "accuracy:  0.79\n"
     ]
    },
    {
     "data": {
      "image/png": "[encoded data removed]",
      "text/plain": [
       "<Figure size 432x288 with 2 Axes>"
      ]
     },
     "metadata": {
      "needs_background": "light"
     },
     "output_type": "display_data"
    }
   ],
   "source": [
    "# Aplica para regresión logística\n",
    "conf_mat_acc(logreg)"
   ]
  },
  {
   "cell_type": "markdown",
   "id": "26dcb127",
   "metadata": {},
   "source": [
    "La presición fue de 79% y sale de la suma del 455 + 247 entre la suma de todos los valores del cuadro. Las esquinas 95 y 94 son los errores. El 455 y el 247 son lo datos acertados por el modelo para 0 y 1."
   ]
  },
  {
   "cell_type": "code",
   "execution_count": 64,
   "id": "6c2718ce",
   "metadata": {},
   "outputs": [
    {
     "name": "stdout",
     "output_type": "stream",
     "text": [
      "accuracy:  0.89\n"
     ]
    },
    {
     "data": {
      "image/png": "[encoded data removed]",
      "text/plain": [
       "<Figure size 432x288 with 2 Axes>"
      ]
     },
     "metadata": {
      "needs_background": "light"
     },
     "output_type": "display_data"
    }
   ],
   "source": [
    "# Aplica para el modelo de decisión\n",
    "conf_mat_acc(decision_tree)"
   ]
  },
  {
   "cell_type": "markdown",
   "id": "d6ff2c1d",
   "metadata": {},
   "source": [
    "Acá tenemos una mejor precisión."
   ]
  },
  {
   "cell_type": "markdown",
   "id": "5f0d4f7e",
   "metadata": {},
   "source": [
    "## 5.1 Evaluación sobre el test set"
   ]
  },
  {
   "cell_type": "markdown",
   "id": "8ad4cbf9",
   "metadata": {},
   "source": [
    "Antes hicimos la matriz de confusión sobre el train set. Esto no es del todo correcto porque estamos utilizando como validación los datos que usamos de entrenamiento. Por lo tanto, la estimación del error sería sesgada y tendría poca capacidad de generalización a casos que no haya \"visto\" el modelo.\n",
    "\n",
    "Por eso necesitamos utilizar el test set. Sin embargo, Kaggle no nos regresa el valor real del test set, para verificarlo tenemos que enviar nuestros resultados y mirar el score que pone kaggle esto lo veremos más adelante"
   ]
  },
  {
   "cell_type": "code",
   "execution_count": 65,
   "id": "6d24685d",
   "metadata": {},
   "outputs": [
    {
     "name": "stdout",
     "output_type": "stream",
     "text": [
      "   PassengerId  Pclass                              Name     Sex   Age  SibSp  \\\n",
      "0          892       3                  Kelly, Mr. James    male  34.5      0   \n",
      "1          893       3  Wilkes, Mrs. James (Ellen Needs)  female  47.0      1   \n",
      "2          894       2         Myles, Mr. Thomas Francis    male  62.0      0   \n",
      "\n",
      "   Parch  Ticket    Fare Cabin Embarked  \n",
      "0      0  330911  7.8292   NaN        Q  \n",
      "1      0  363272  7.0000   NaN        S  \n",
      "2      0  240276  9.6875   NaN        Q  \n",
      "<class 'pandas.core.frame.DataFrame'>\n",
      "RangeIndex: 418 entries, 0 to 417\n",
      "Data columns (total 11 columns):\n",
      " #   Column       Non-Null Count  Dtype  \n",
      "---  ------       --------------  -----  \n",
      " 0   PassengerId  418 non-null    int64  \n",
      " 1   Pclass       418 non-null    int64  \n",
      " 2   Name         418 non-null    object \n",
      " 3   Sex          418 non-null    object \n",
      " 4   Age          332 non-null    float64\n",
      " 5   SibSp        418 non-null    int64  \n",
      " 6   Parch        418 non-null    int64  \n",
      " 7   Ticket       418 non-null    object \n",
      " 8   Fare         417 non-null    float64\n",
      " 9   Cabin        91 non-null     object \n",
      " 10  Embarked     418 non-null    object \n",
      "dtypes: float64(2), int64(4), object(5)\n",
      "memory usage: 36.0+ KB\n"
     ]
    }
   ],
   "source": [
    "# ahora hay que preparar el test set para evaluación\n",
    "print(test.head(3))\n",
    "test.info()"
   ]
  },
  {
   "cell_type": "code",
   "execution_count": 66,
   "id": "0934ae38",
   "metadata": {},
   "outputs": [],
   "source": [
    "# preprocesando test set\n",
    "\n",
    "# hacer map a Sex\n",
    "test['Sex'] = test['Sex'].map({'female': 1, 'male': 0}).astype(int)\n",
    "\n",
    "# rellenar Age\n",
    "test['Age'] = test['Age'].fillna(28.0)\n",
    "\n",
    "# Crear FlagSolo\n",
    "test['FlagSolo'] = np.where(\n",
    "    (test['SibSp'] == 0) & (test['Parch'] == 0), 1, 0)"
   ]
  },
  {
   "cell_type": "code",
   "execution_count": 67,
   "id": "b53ddffb",
   "metadata": {},
   "outputs": [
    {
     "name": "stdout",
     "output_type": "stream",
     "text": [
      "<class 'pandas.core.frame.DataFrame'>\n",
      "RangeIndex: 418 entries, 0 to 417\n",
      "Data columns (total 12 columns):\n",
      " #   Column       Non-Null Count  Dtype  \n",
      "---  ------       --------------  -----  \n",
      " 0   PassengerId  418 non-null    int64  \n",
      " 1   Pclass       418 non-null    int64  \n",
      " 2   Name         418 non-null    object \n",
      " 3   Sex          418 non-null    int64  \n",
      " 4   Age          418 non-null    float64\n",
      " 5   SibSp        418 non-null    int64  \n",
      " 6   Parch        418 non-null    int64  \n",
      " 7   Ticket       418 non-null    object \n",
      " 8   Fare         417 non-null    float64\n",
      " 9   Cabin        91 non-null     object \n",
      " 10  Embarked     418 non-null    object \n",
      " 11  FlagSolo     418 non-null    int64  \n",
      "dtypes: float64(2), int64(6), object(4)\n",
      "memory usage: 39.3+ KB\n",
      "None\n"
     ]
    },
    {
     "data": {
      "text/html": [
       "<div>\n",
       "<style scoped>\n",
       "    .dataframe tbody tr th:only-of-type {\n",
       "        vertical-align: middle;\n",
       "    }\n",
       "\n",
       "    .dataframe tbody tr th {\n",
       "        vertical-align: top;\n",
       "    }\n",
       "\n",
       "    .dataframe thead th {\n",
       "        text-align: right;\n",
       "    }\n",
       "</style>\n",
       "<table border=\"1\" class=\"dataframe\">\n",
       "  <thead>\n",
       "    <tr style=\"text-align: right;\">\n",
       "      <th></th>\n",
       "      <th>Sex</th>\n",
       "      <th>Age</th>\n",
       "      <th>Pclass</th>\n",
       "      <th>FlagSolo</th>\n",
       "    </tr>\n",
       "  </thead>\n",
       "  <tbody>\n",
       "    <tr>\n",
       "      <th>0</th>\n",
       "      <td>0</td>\n",
       "      <td>34.5</td>\n",
       "      <td>3</td>\n",
       "      <td>1</td>\n",
       "    </tr>\n",
       "    <tr>\n",
       "      <th>1</th>\n",
       "      <td>1</td>\n",
       "      <td>47.0</td>\n",
       "      <td>3</td>\n",
       "      <td>0</td>\n",
       "    </tr>\n",
       "    <tr>\n",
       "      <th>2</th>\n",
       "      <td>0</td>\n",
       "      <td>62.0</td>\n",
       "      <td>2</td>\n",
       "      <td>1</td>\n",
       "    </tr>\n",
       "  </tbody>\n",
       "</table>\n",
       "</div>"
      ],
      "text/plain": [
       "   Sex   Age  Pclass  FlagSolo\n",
       "0    0  34.5       3         1\n",
       "1    1  47.0       3         0\n",
       "2    0  62.0       2         1"
      ]
     },
     "execution_count": 67,
     "metadata": {},
     "output_type": "execute_result"
    }
   ],
   "source": [
    "print(test.info())\n",
    "test[features].head(3)"
   ]
  },
  {
   "cell_type": "code",
   "execution_count": 68,
   "id": "60ad7123",
   "metadata": {},
   "outputs": [
    {
     "name": "stdout",
     "output_type": "stream",
     "text": [
      "(418, 4)\n"
     ]
    }
   ],
   "source": [
    "# crear test set \n",
    "X_test = test[features]\n",
    "\n",
    "print(X_test.shape)"
   ]
  },
  {
   "cell_type": "code",
   "execution_count": 69,
   "id": "ac844bba",
   "metadata": {},
   "outputs": [
    {
     "name": "stdout",
     "output_type": "stream",
     "text": [
      "[0 0 0 0 1 0 1 0 1 0]\n"
     ]
    }
   ],
   "source": [
    "# prediccion de Survived en test set\n",
    "Y_pred_log = logreg.predict(X_test)\n",
    "Y_pred_tree = decision_tree.predict(X_test)\n",
    "print(Y_pred_log[0:10])"
   ]
  },
  {
   "cell_type": "markdown",
   "id": "8326a371",
   "metadata": {},
   "source": [
    "Nota: Estas predicciones deberían ser ahora comparadas con el valor real para obtener una mejor estimación del error de predicción sobre el test set y poder escoger un modelo.\n",
    "\n",
    "Sin embargo, como es una competicion de Kaggle este valor solo lo conoce la plataforma.\n",
    "\n",
    "Vamos a exportar estos CSV y luego subirlos para ver cual tiene mejor rendimiento."
   ]
  },
  {
   "cell_type": "markdown",
   "id": "e97b945b",
   "metadata": {},
   "source": [
    "## 6. Predicción"
   ]
  },
  {
   "cell_type": "code",
   "execution_count": 70,
   "id": "9efd1476",
   "metadata": {},
   "outputs": [
    {
     "name": "stdout",
     "output_type": "stream",
     "text": [
      "[0 0 0 0 1 0 1 0 1 0 0 0 1 0 1 1 0 0 1 0]\n",
      "[0 0 1 1 0 0 0 0 0 0 0 0 1 0 1 1 0 0 1 0]\n"
     ]
    }
   ],
   "source": [
    "# prediciendo sobre el test set\n",
    "print(Y_pred_log[0:20])\n",
    "print(Y_pred_tree[0:20])"
   ]
  },
  {
   "cell_type": "code",
   "execution_count": null,
   "id": "06779188",
   "metadata": {},
   "outputs": [],
   "source": [
    "# para descargar en ordenador\n",
    "def download_output(y_pred, name):\n",
    "  output = pd.DataFrame({'PassengerId': test.PassengerId, \n",
    "                         'Survived': y_pred})\n",
    "  output.to_csv(name, index=False)"
   ]
  },
  {
   "cell_type": "code",
   "execution_count": null,
   "id": "909e6767",
   "metadata": {},
   "outputs": [],
   "source": [
    "download_output(Y_pred_log, 'rafa_pred_log.csv')\n",
    "download_output(Y_pred_tree, 'rafa_pred_tree.csv')"
   ]
  },
  {
   "cell_type": "markdown",
   "id": "1445490c",
   "metadata": {},
   "source": [
    "Luego de hacer el envio a kaggle:"
   ]
  },
  {
   "cell_type": "markdown",
   "id": "4a4ae06b",
   "metadata": {},
   "source": [
    "Resultados de kaggle:\n",
    "- árboles de decisión - > 0.73684\n",
    "- regresión logística -> 0.75358<br>\n",
    "    \n",
    "Con lo que muestra que en el test_set hay un mejor valor para accuracy que con train set.\n",
    "\n",
    "Por esta razón, nos quedaríamos con el modelo de regresión logística. Porque generaliza mejor las predicciones para datos con los que no se ha entrenado el modelo."
   ]
  },
  {
   "cell_type": "markdown",
   "id": "2e0e470f",
   "metadata": {},
   "source": [
    "## Conclusión"
   ]
  },
  {
   "cell_type": "markdown",
   "id": "e1050543",
   "metadata": {},
   "source": [
    "En el análisis exploratorio vimos como se comportaba la variable 'Survival', en donde determinamos como variables explicativasa la edad y el género.\n",
    "Después creamos una variable que contenia la información de los pasajeros que viajaban solos, ya que estos tenian una tasa diferente de supervivencia.\n",
    "Probamos dos modelos: regresión logística y árboles de decisión.\n",
    "Finalizamos calculando el error utilizando el test_set y no el trai_set."
   ]
  },
  {
   "cell_type": "code",
   "execution_count": null,
   "id": "16b882c5",
   "metadata": {},
   "outputs": [],
   "source": []
  }
 ],
 "metadata": {
  "kernelspec": {
   "display_name": "Python 3",
   "language": "python",
   "name": "python3"
  },
  "language_info": {
   "codemirror_mode": {
    "name": "ipython",
    "version": 3
   },
   "file_extension": ".py",
   "mimetype": "text/x-python",
   "name": "python",
   "nbconvert_exporter": "python",
   "pygments_lexer": "ipython3",
   "version": "3.8.8"
  }
 },
 "nbformat": 4,
 "nbformat_minor": 5
}
